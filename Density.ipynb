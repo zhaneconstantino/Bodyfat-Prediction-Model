{
  "nbformat": 4,
  "nbformat_minor": 0,
  "metadata": {
    "colab": {
      "provenance": []
    },
    "kernelspec": {
      "name": "python3",
      "display_name": "Python 3"
    },
    "language_info": {
      "name": "python"
    }
  },
  "cells": [
    {
      "cell_type": "code",
      "execution_count": 6,
      "metadata": {
        "id": "zPog1PmuJYNt"
      },
      "outputs": [],
      "source": [
        "import pandas as pd\n",
        "import seaborn as sns\n",
        "import numpy as np\n",
        "import matplotlib.pyplot as plt\n",
        "from sklearn.model_selection import train_test_split\n",
        "from sklearn.linear_model import LinearRegression\n",
        "from sklearn.metrics import r2_score, mean_absolute_error, mean_squared_error\n",
        "import pickle"
      ]
    },
    {
      "cell_type": "code",
      "source": [
        "bodyfat = pd.read_csv('bodyfat.csv')"
      ],
      "metadata": {
        "id": "i2b-n6GSJkff"
      },
      "execution_count": 7,
      "outputs": []
    },
    {
      "cell_type": "markdown",
      "source": [
        "Since 'Density' is found through underwater weighing, this may be difficult for users to determine. Thus a two-part prediction model might be necessary, first by predicting density, which helps increase the accuracy of the model to predict bodyfat percentage."
      ],
      "metadata": {
        "id": "T6z5AcTCJuMK"
      }
    },
    {
      "cell_type": "code",
      "source": [
        "# Create a new DataFrame without the 'BodyFat' column\n",
        "bodyfat_no_bodyfat = bodyfat.drop(columns=['BodyFat'])\n",
        "\n",
        "# Separate features and target variable\n",
        "X = bodyfat_no_bodyfat.drop(columns=['Density'])\n",
        "y = bodyfat_no_bodyfat['Density']\n",
        "\n",
        "# Split the data into training and testing sets\n",
        "X_train, X_test, y_train, y_test = train_test_split(X, y, test_size=0.3, random_state=42)\n",
        "\n",
        "# Fit the model to the training data\n",
        "model = LinearRegression()\n",
        "model.fit(X_train, y_train)\n",
        "\n",
        "# Make predictions using the test data\n",
        "y_pred = model.predict(X_test)\n",
        "\n",
        "# Assess the model by generating R-squared, Mean Absolute Error, Mean Squared Error, and Root Mean Squared Error\n",
        "r2 = r2_score(y_test, y_pred)\n",
        "mae = mean_absolute_error(y_test, y_pred)\n",
        "mse = mean_squared_error(y_test, y_pred)\n",
        "rmse = np.sqrt(mse)\n",
        "\n",
        "# Print the performance metrics\n",
        "print(f'R-squared: {r2}')\n",
        "print(f'Mean Absolute Error: {mae}')\n",
        "print(f'Mean Squared Error: {mse}')\n",
        "print(f'Root Mean Squared Error: {rmse}')"
      ],
      "metadata": {
        "colab": {
          "base_uri": "https://localhost:8080/"
        },
        "id": "oH3NmkhpJvEi",
        "outputId": "bdac4e18-8b86-4bbe-eab3-06262872fc4b"
      },
      "execution_count": 8,
      "outputs": [
        {
          "output_type": "stream",
          "name": "stdout",
          "text": [
            "R-squared: 0.6237086890069445\n",
            "Mean Absolute Error: 0.008153283557631645\n",
            "Mean Squared Error: 9.931738203196461e-05\n",
            "Root Mean Squared Error: 0.009965810656036196\n"
          ]
        }
      ]
    },
    {
      "cell_type": "code",
      "source": [
        "with open('density_model_1.pkl', 'wb') as f:\n",
        "    pickle.dump(model, f)"
      ],
      "metadata": {
        "id": "49Jd9BfYKB4n"
      },
      "execution_count": 9,
      "outputs": []
    }
  ]
}